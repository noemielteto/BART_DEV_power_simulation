{
 "cells": [
  {
   "cell_type": "markdown",
   "metadata": {},
   "source": [
    "# Power simulation for the Supplementary Material of the paper: 'Do adolescents take more risks? Not when facing a novel uncertain situation'\n",
    "\n",
    "Author: Noémi Éltető\n",
    "Affiliation: Eötvös Loránd University\n",
    "\n",
    "Written in Python 2. Numpy is used for stochastic computation, Pandas is used for data frame handling, Matplotlib and Seaborn are used for plotting, and Statmodels is used for regression analysis."
   ]
  },
  {
   "cell_type": "code",
   "execution_count": 2,
   "metadata": {},
   "outputs": [],
   "source": [
    "import numpy as np\n",
    "import pandas as pd\n",
    "import matplotlib.pyplot as plt\n",
    "import seaborn as sns\n",
    "import statsmodels.formula.api as sm"
   ]
  },
  {
   "cell_type": "markdown",
   "metadata": {},
   "source": [
    "Based on the regression coefficients reported by Duell et al. (2018), the function below generates the risk-taking scores, given the gender and age of the participant, and an error term. We conduct the power simulation for only the BART, but it can be done for either measures."
   ]
  },
  {
   "cell_type": "code",
   "execution_count": 3,
   "metadata": {},
   "outputs": [],
   "source": [
    "def generate_rt_scores(gender,age, error):\n",
    "    stoplight       = (2.504*gender) + (0.69*age) + ((-0.048)*(age**2)) + error\n",
    "    bart            = (3.068*gender) + (0.987*age) + ((-0.037)*(age**2)) + error\n",
    "    health_risk     = (5.996*gender) + (5.009*age) + ((-0.136)*(age**2)) + error\n",
    "    antisocial_risk = (10.339*gender) + (1.521*age) + ((-0.087)*(age**2)) + error\n",
    "    return [stoplight, bart, health_risk, antisocial_risk]"
   ]
  },
  {
   "cell_type": "markdown",
   "metadata": {},
   "source": [
    "We generate 5227 data points to emulate the empirical total sample collected by Duell et al. We sample age uniformly in the range between 0 and 20. This corresponds to the age range between 10 and 30, after centering to 0 (the centering was used in the Duell et al. paper, so we conformed to this in our simulation). The gender term is randomly set to 0 (female) or 1 (male). The error term is set to 9.2, since this ensures that the standard error of the mean of the unstandardized betas approach the standard error values of the parameters as reported by Duell et al. in Table 4."
   ]
  },
  {
   "cell_type": "code",
   "execution_count": 47,
   "metadata": {},
   "outputs": [],
   "source": [
    "Duell_simulated_data = pd.DataFrame()\n",
    "Duell_simulated_data['gender']  = np.random.choice([0,1],5227)\n",
    "Duell_simulated_data['age']  = np.random.uniform(0,20,5227)\n",
    "rt_measures = ['stoplight', 'BART', 'health_risk', 'antisocial_risk']\n",
    "for measure in rt_measures:\n",
    "    Duell_simulated_data[measure] = np.nan\n",
    "for i,row in Duell_simulated_data.iterrows():\n",
    "    Duell_simulated_data.loc[i,rt_measures] = generate_rt_scores(gender = row['gender'],age = row['age'], error=np.random.normal(0,9.25))"
   ]
  },
  {
   "cell_type": "markdown",
   "metadata": {},
   "source": [
    "The resulting sample of 5227 data points reflects the quadratic pattern that was presented in the paper. The quadratic fit to the simulated data yields similar B and SE(B) values to those reported by Duell et al."
   ]
  },
  {
   "cell_type": "code",
   "execution_count": 48,
   "metadata": {},
   "outputs": [
    {
     "data": {
      "text/html": [
       "<table class=\"simpletable\">\n",
       "<caption>OLS Regression Results</caption>\n",
       "<tr>\n",
       "  <th>Dep. Variable:</th>          <td>BART</td>       <th>  R-squared:         </th> <td>   0.077</td> \n",
       "</tr>\n",
       "<tr>\n",
       "  <th>Model:</th>                   <td>OLS</td>       <th>  Adj. R-squared:    </th> <td>   0.076</td> \n",
       "</tr>\n",
       "<tr>\n",
       "  <th>Method:</th>             <td>Least Squares</td>  <th>  F-statistic:       </th> <td>   145.0</td> \n",
       "</tr>\n",
       "<tr>\n",
       "  <th>Date:</th>             <td>Tue, 18 Dec 2018</td> <th>  Prob (F-statistic):</th> <td>2.88e-90</td> \n",
       "</tr>\n",
       "<tr>\n",
       "  <th>Time:</th>                 <td>14:05:25</td>     <th>  Log-Likelihood:    </th> <td> -19070.</td> \n",
       "</tr>\n",
       "<tr>\n",
       "  <th>No. Observations:</th>      <td>  5227</td>      <th>  AIC:               </th> <td>3.815e+04</td>\n",
       "</tr>\n",
       "<tr>\n",
       "  <th>Df Residuals:</th>          <td>  5223</td>      <th>  BIC:               </th> <td>3.817e+04</td>\n",
       "</tr>\n",
       "<tr>\n",
       "  <th>Df Model:</th>              <td>     3</td>      <th>                     </th>     <td> </td>    \n",
       "</tr>\n",
       "<tr>\n",
       "  <th>Covariance Type:</th>      <td>nonrobust</td>    <th>                     </th>     <td> </td>    \n",
       "</tr>\n",
       "</table>\n",
       "<table class=\"simpletable\">\n",
       "<tr>\n",
       "          <td></td>            <th>coef</th>     <th>std err</th>      <th>t</th>      <th>P>|t|</th>  <th>[0.025</th>    <th>0.975]</th>  \n",
       "</tr>\n",
       "<tr>\n",
       "  <th>Intercept</th>        <td>   -0.7555</td> <td>    0.401</td> <td>   -1.883</td> <td> 0.060</td> <td>   -1.542</td> <td>    0.031</td>\n",
       "</tr>\n",
       "<tr>\n",
       "  <th>gender</th>           <td>    3.2514</td> <td>    0.257</td> <td>   12.629</td> <td> 0.000</td> <td>    2.747</td> <td>    3.756</td>\n",
       "</tr>\n",
       "<tr>\n",
       "  <th>age</th>              <td>    1.1194</td> <td>    0.088</td> <td>   12.731</td> <td> 0.000</td> <td>    0.947</td> <td>    1.292</td>\n",
       "</tr>\n",
       "<tr>\n",
       "  <th>np.power(age, 2)</th> <td>   -0.0416</td> <td>    0.004</td> <td>   -9.775</td> <td> 0.000</td> <td>   -0.050</td> <td>   -0.033</td>\n",
       "</tr>\n",
       "</table>\n",
       "<table class=\"simpletable\">\n",
       "<tr>\n",
       "  <th>Omnibus:</th>       <td> 1.624</td> <th>  Durbin-Watson:     </th> <td>   1.981</td>\n",
       "</tr>\n",
       "<tr>\n",
       "  <th>Prob(Omnibus):</th> <td> 0.444</td> <th>  Jarque-Bera (JB):  </th> <td>   1.603</td>\n",
       "</tr>\n",
       "<tr>\n",
       "  <th>Skew:</th>          <td> 0.016</td> <th>  Prob(JB):          </th> <td>   0.449</td>\n",
       "</tr>\n",
       "<tr>\n",
       "  <th>Kurtosis:</th>      <td> 3.079</td> <th>  Cond. No.          </th> <td>    593.</td>\n",
       "</tr>\n",
       "</table>"
      ],
      "text/plain": [
       "<class 'statsmodels.iolib.summary.Summary'>\n",
       "\"\"\"\n",
       "                            OLS Regression Results                            \n",
       "==============================================================================\n",
       "Dep. Variable:                   BART   R-squared:                       0.077\n",
       "Model:                            OLS   Adj. R-squared:                  0.076\n",
       "Method:                 Least Squares   F-statistic:                     145.0\n",
       "Date:                Tue, 18 Dec 2018   Prob (F-statistic):           2.88e-90\n",
       "Time:                        14:05:25   Log-Likelihood:                -19070.\n",
       "No. Observations:                5227   AIC:                         3.815e+04\n",
       "Df Residuals:                    5223   BIC:                         3.817e+04\n",
       "Df Model:                           3                                         \n",
       "Covariance Type:            nonrobust                                         \n",
       "====================================================================================\n",
       "                       coef    std err          t      P>|t|      [0.025      0.975]\n",
       "------------------------------------------------------------------------------------\n",
       "Intercept           -0.7555      0.401     -1.883      0.060      -1.542       0.031\n",
       "gender               3.2514      0.257     12.629      0.000       2.747       3.756\n",
       "age                  1.1194      0.088     12.731      0.000       0.947       1.292\n",
       "np.power(age, 2)    -0.0416      0.004     -9.775      0.000      -0.050      -0.033\n",
       "==============================================================================\n",
       "Omnibus:                        1.624   Durbin-Watson:                   1.981\n",
       "Prob(Omnibus):                  0.444   Jarque-Bera (JB):                1.603\n",
       "Skew:                           0.016   Prob(JB):                        0.449\n",
       "Kurtosis:                       3.079   Cond. No.                         593.\n",
       "==============================================================================\n",
       "\n",
       "Warnings:\n",
       "[1] Standard Errors assume that the covariance matrix of the errors is correctly specified.\n",
       "\"\"\""
      ]
     },
     "execution_count": 48,
     "metadata": {},
     "output_type": "execute_result"
    },
    {
     "data": {
      "image/png": "[encoded data removed]",
      "text/plain": [
       "<matplotlib.figure.Figure at 0xdf05ef0>"
      ]
     },
     "metadata": {},
     "output_type": "display_data"
    }
   ],
   "source": [
    "plt.figure(figsize=(3,3))\n",
    "sns.regplot(x='age',y='BART',order=2,color='grey',scatter_kws={'s':3}, line_kws={'color':'k'}, data=Duell_simulated_data)\n",
    "plt.xlabel('age')\n",
    "plt.ylabel('BART score')\n",
    "\n",
    "model = sm.ols(formula = 'BART ~ gender + age + np.power(age, 2)', data = Duell_simulated_data).fit()\n",
    "model.summary()"
   ]
  },
  {
   "cell_type": "markdown",
   "metadata": {},
   "source": [
    "Next, we take n_iterations random subsamples of N=188 from the total sample of 5227, and we test the quadratic fit (F-test) of these random subsamples. We plot the first ten samples and the p-value of the F-test for the quadratic fit. "
   ]
  },
  {
   "cell_type": "code",
   "execution_count": null,
   "metadata": {},
   "outputs": [],
   "source": [
    "f,ax = plt.subplots(1,10, figsize=(18,1.8), sharex=True,sharey=True)\n",
    "n_iterations = 10000\n",
    "r2_values, f_pvalues = [],[]\n",
    "for i in range(n_iterations):\n",
    "    subsample = Duell_simulated_data.sample(188)\n",
    "    model = sm.ols(formula = 'BART ~ gender + age + np.power(age, 2)', data = subsample).fit() # TODO how accounting for gender affects the power?\n",
    "    r2_values.append(model.rsquared)\n",
    "    f_pvalues.append(model.f_pvalue)\n",
    "    if i<10:\n",
    "        #ax[i].scatter(subsample['age'],subsample['BART'], s=3, alpha=0.7, c='k')\n",
    "        sns.regplot(x='age',y='BART',order=2,color='grey',scatter_kws={'s':3}, line_kws={'color':'k'}, data=subsample, ax=ax[i])\n",
    "        pval = np.round(model.f_pvalue,3)\n",
    "        if pval >= 0.001:\n",
    "            ax[i].text(0,40,'p = ' +str(pval))\n",
    "        else:\n",
    "            ax[i].text(0,40,'p < 0.001')\n",
    "        ax[i].set_title('Subsample #' + str(i+1))\n",
    "        ax[i].set_xlabel('age')\n",
    "        ax[i].set_xlim(-1,21)\n",
    "        ax[i].set_ylim(-30,50)\n",
    "        if i==0:\n",
    "            ax[i].set_ylabel('standardized BART score')\n",
    "#plt.suptitle('Quadratic fit to 10 examplar random subsamples (N=188) drawn from a simulated population (N=5227) based on reported regression parameters by Duell et al. (2018)')\n",
    "#plt.tight_layout(rect=[0,0.03,1,0.95])"
   ]
  },
  {
   "cell_type": "markdown",
   "metadata": {},
   "source": [
    "We compute the statistical power as the proportion of significant F-tests on alpha level of 0.05."
   ]
  },
  {
   "cell_type": "code",
   "execution_count": 46,
   "metadata": {},
   "outputs": [
    {
     "name": "stdout",
     "output_type": "stream",
     "text": [
      "80.72\n"
     ]
    }
   ],
   "source": [
    "power_p = (len([i for i in range(n_iterations) if (f_pvalues[i]<0.05)])/float(n_iterations))*100\n",
    "print power_p"
   ]
  },
  {
   "cell_type": "markdown",
   "metadata": {},
   "source": [
    "We plot the density histogram and cumulative histogram of the p-values."
   ]
  },
  {
   "cell_type": "code",
   "execution_count": 44,
   "metadata": {},
   "outputs": [
    {
     "data": {
      "image/png": "[encoded data removed]",
      "text/plain": [
       "<matplotlib.figure.Figure at 0xf775f98>"
      ]
     },
     "metadata": {},
     "output_type": "display_data"
    }
   ],
   "source": [
    "weights = np.ones_like(f_pvalues)/float(len(f_pvalues))\n",
    "plt.figure(figsize=(5,5))\n",
    "plt.hist(f_pvalues, weights=weights, bins=50)\n",
    "plt.hist(f_pvalues,density=True,cumulative=True, bins=100, histtype='step', color='red')\n",
    "plt.xlim((0,1))\n",
    "plt.ylim((0,1))\n",
    "plt.axvline(x=0.05, color='black')\n",
    "plt.text(0.2,0.85,'power = '+str(power_p)+'%')\n",
    "plt.xlabel('p-value',fontsize=12)\n",
    "plt.ylabel('likelihood of occurence',fontsize=12)\n",
    "plt.title('Histogram of p-values of quadratic fit\\non 10000 random subsamples (N=188)\\ndrawn from a simulated population (N=5227)\\nbased on reported regression parameters by Duell et al. (2018)\\n',fontsize=12)\n",
    "plt.tight_layout()"
   ]
  },
  {
   "cell_type": "code",
   "execution_count": null,
   "metadata": {},
   "outputs": [],
   "source": []
  }
 ],
 "metadata": {
  "kernelspec": {
   "display_name": "Python 2",
   "language": "python",
   "name": "python2"
  },
  "language_info": {
   "codemirror_mode": {
    "name": "ipython",
    "version": 2
   },
   "file_extension": ".py",
   "mimetype": "text/x-python",
   "name": "python",
   "nbconvert_exporter": "python",
   "pygments_lexer": "ipython2",
   "version": "2.7.14"
  }
 },
 "nbformat": 4,
 "nbformat_minor": 2
}
